{
 "cells": [
  {
   "cell_type": "markdown",
   "metadata": {},
   "source": [
    "<h1>Chapter 1: Python Basics</h1>"
   ]
  },
  {
   "cell_type": "markdown",
   "metadata": {},
   "source": [
    "<h2>Lesson 1: Python Basics</h2>"
   ]
  },
  {
   "cell_type": "markdown",
   "metadata": {},
   "source": [
    "<h3>Exercise 1: The Python Interface</h3>\n",
    "<h4>Explanation</h4>\n",
    "\n",
    "<p>In the Python script on the right, you can type Python code to solve the exercises. If you hit Run Code or Submit Answer, your python script (script.py) is executed and the output is shown in the IPython Shell. Submit Answer checks whether your submission is correct and gives you feedback.\n",
    "\n",
    "You can hit Run Code and Submit Answer as often as you want. If you're stuck, you can click Get Hint, and ultimately Get Solution.\n",
    "\n",
    "You can also use the IPython Shell interactively by simply typing commands and hitting Enter. When you work in the shell directly, your code will not be checked for correctness so it is a great way to experiment.</p>\n",
    "\n",
    "<h4>Instructions</h4>\n",
    "\n",
    "<ol>\n",
    "    <li>Experiment in the IPython Shell; type 5 / 8, for example.</li>\n",
    "    <li>Add another line of code to the Python script: print(7 + 10)</li>\n",
    "    <li>Hit Submit Answer to execute the Python script and receive feedback.</li>\n",
    "</ol>\n"
   ]
  },
  {
   "cell_type": "code",
   "execution_count": 1,
   "metadata": {},
   "outputs": [
    {
     "name": "stdout",
     "output_type": "stream",
     "text": [
      "0.625\n",
      "17\n"
     ]
    }
   ],
   "source": [
    "# Example, do not modify!\n",
    "print(5 / 8)\n",
    "\n",
    "# Put code below here\n",
    "print(7 + 10)"
   ]
  },
  {
   "cell_type": "markdown",
   "metadata": {},
   "source": [
    "<h3>Exercise 2: When to use Python?</h3>\n",
    "<h4>Explanation</h4>\n",
    "<p>Python is a pretty versatile language. For which applications can you use Python?</p>\n",
    "<h4>IPossible Answers</h4>\n",
    "\n",
    "<ol>\n",
    "    <li>You want to do some quick calculations.</li>\n",
    "    <li>For your new business, you want to develop a database-driven website</li>\n",
    "    <li>Your boss asks you to clean and analyse the results of the latest satisfaction survey.</li>\n",
    "    <li><b>All of the above.</b></li>\n",
    "</ol>\n"
   ]
  },
  {
   "cell_type": "markdown",
   "metadata": {},
   "source": [
    "<h3>Exercise 3: Any Comments?</h3>\n",
    "<h4>Explanation</h4>\n",
    "<p>Something that Filip didn't mention in his videos is that you can add comments to your Python scripts. Comments are important to make sure that you and others can understand what your code is about.\n",
    "\n",
    "To add comments to your Python script, you can use the # tag. These comments are not run as Python code, so they will not influence your result. As an example, take the comment on the right, # Division; it is completely ignored during execution.</p>\n",
    "<h4>\n",
    "Instructions</h4>\n",
    "\n",
    "<ol>\n",
    "    <li>Above the print(7 + 10), add the comment # Addition.</li>\n",
    "\n",
    "</ol>\n"
   ]
  },
  {
   "cell_type": "code",
   "execution_count": 3,
   "metadata": {},
   "outputs": [
    {
     "name": "stdout",
     "output_type": "stream",
     "text": [
      "0.625\n",
      "17\n"
     ]
    }
   ],
   "source": [
    "# Division\n",
    "print(5 / 8)\n",
    "\n",
    "# Addition\n",
    "print(7 + 10)"
   ]
  },
  {
   "cell_type": "markdown",
   "metadata": {},
   "source": [
    "<h3>Exercise 4: Python as a calculator</h3>\n",
    "<h4>Explanation</h4>\n",
    "<p>Python is perfectly suited to do basic calculations. Apart from addition, subtraction, multiplication and division, there is also support for more advanced operations such as:</p>\n",
    "<ul>\n",
    "    <li>Exponentiation: **. This operator raises the number to its left to the power of the number to its right. For example 4**2 will give 16.</li>\n",
    "    <li>Modulo: %. This operator returns the remainder of the division of the number to the left by the number on its right. For example 18 % 7 equals 4.</li>\n",
    "</ul>\n",
    "<p>The code in the script on the right gives some examples.</p>\n",
    "<h4>\n",
    "Instructions</h4>\n",
    "\n",
    "<ol>\n",
    "    <li>Suppose you have $100, which you can invest with a 10% return each year. After one year, it's 100×1.1=110 dollars, and after two years it's 100×1.1×1.1=121. Add code on the right to calculate how much money you end up with after 7 years.</li>\n",
    "\n",
    "</ol>\n"
   ]
  },
  {
   "cell_type": "code",
   "execution_count": 4,
   "metadata": {},
   "outputs": [
    {
     "name": "stdout",
     "output_type": "stream",
     "text": [
      "10\n",
      "0\n",
      "15\n",
      "5.0\n",
      "4\n",
      "16\n",
      "194.87171000000012\n"
     ]
    }
   ],
   "source": [
    "# Addition, subtraction\n",
    "print(5 + 5)\n",
    "print(5 - 5)\n",
    "\n",
    "# Multiplication, division, modulo, and exponentiation\n",
    "print(3 * 5)\n",
    "print(10 / 2)\n",
    "print(18 % 7)\n",
    "print(4 ** 2)\n",
    "\n",
    "# How much is your $100 worth after 7 years?\n",
    "print(100*1.1**7)"
   ]
  },
  {
   "cell_type": "markdown",
   "metadata": {},
   "source": [
    "<h3>Exercise 5: Variable Assignment</h3>\n",
    "<h4>Explanation</h4>\n",
    "<p>In Python, a variable allows you to refer to a value with a name. To create a variable use =, like this example:</p>\n",
    "<ul>\n",
    "<li>x = 5</li>\n",
    "</ul>\n",
    "<p>You can now use the name of this variable, x, instead of the actual value, 5.\n",
    "\n",
    "Remember, = in Python means assignment, it doesn't test equality!</p>\n",
    "<h4>\n",
    "Instructions</h4>\n",
    "\n",
    "<ol>\n",
    "    <li>Create a variable savings with the value 100.</li>\n",
    "    <li>Check out this variable by typing print(savings) in the script.</li>\n",
    "</ol>\n"
   ]
  },
  {
   "cell_type": "code",
   "execution_count": 5,
   "metadata": {},
   "outputs": [
    {
     "name": "stdout",
     "output_type": "stream",
     "text": [
      "100\n"
     ]
    }
   ],
   "source": [
    "# Create a variable savings\n",
    "savings = 100\n",
    "\n",
    "# Print out savings\n",
    "print(savings)"
   ]
  },
  {
   "cell_type": "markdown",
   "metadata": {},
   "source": [
    "<h3>Exercise 6: Other variable types</h3>\n",
    "<h4>Explanation</h4>\n",
    "<p>In the previous exercise, you worked with two Python data types:</p>\n",
    "<ul>\n",
    "    <li>int, or integer: a number without a fractional part. savings, with the value 100, is an example of an integer.</li>\n",
    "    <li>float, or floating point: a number that has both an integer and fractional part, separated by a point. factor, with the value 1.10, is an example of a float.</li>\n",
    "</ul>\n",
    "<p>Next to numerical data types, there are two other very common data types:</p>\n",
    "<ul>\n",
    "    <li>str, or string: a type to represent text. You can use single or double quotes to build a string.</li>\n",
    "    <li>bool, or boolean: a type to represent logical values. Can only be True or False (the capitalization is important!).</li>\n",
    "</ul>\n",
    "<h4>\n",
    "Instructions</h4>\n",
    "\n",
    "<ol>\n",
    "    <li>Create a new string, desc, with the value \"compound interest\".</li>\n",
    "    <li>Create a new boolean, profitable, with the value True.</li>\n",
    "</ol>\n"
   ]
  },
  {
   "cell_type": "code",
   "execution_count": 6,
   "metadata": {},
   "outputs": [],
   "source": [
    "# Create a variable desc\n",
    "desc = \"compound interest\"\n",
    "\n",
    "# Create a variable profitable\n",
    "profitable = True"
   ]
  },
  {
   "cell_type": "markdown",
   "metadata": {},
   "source": [
    "<h3>Exercise 7: Guess the type</h3>\n",
    "<h4>Explanation</h4>\n",
    "<p>To find out the type of a value or a variable that refers to that value, you can use the type() function. Suppose you've defined a variable a, but you forgot the type of this variable. To determine the type of a, simply execute:</p>\n",
    "<ul>\n",
    "    <li>type(a)</li>\n",
    "</ul>\n",
    "<p>We already went ahead and created three variables: a, b and c. You can use the IPython shell on the right to discover their type. Which of the following options is correct?</p>\n",
    "<h4>\n",
    "Possible Answers</h4>\n",
    "\n",
    "<ol>\n",
    "    <li>a is of type int, b is of type str, c is of type bool</li>\n",
    "    <li>a is of type float, b is of type bool, c is of type str</li>\n",
    "    <li><b>a is of type float, b is of type str, c is of type bool</b></li>\n",
    "    <li>a is of type int, b is of type bool, c is of type str</li>\n",
    "</ol>\n"
   ]
  },
  {
   "cell_type": "code",
   "execution_count": 8,
   "metadata": {},
   "outputs": [
    {
     "name": "stdout",
     "output_type": "stream",
     "text": [
      "<class 'float'>\n",
      "<class 'str'>\n",
      "<class 'bool'>\n"
     ]
    }
   ],
   "source": [
    "#variables\n",
    "a = 194.87171000000012\n",
    "b = \"True\"\n",
    "c = False\n",
    "\n",
    "print(type(a))\n",
    "print(type(b))\n",
    "print(type(c))"
   ]
  },
  {
   "cell_type": "markdown",
   "metadata": {},
   "source": [
    "<h3>Exercise 8: Operations with other types</h3>\n",
    "<h4>Explanation</h4>\n",
    "<p>Filip mentioned that different types behave differently in Python.\n",
    "\n",
    "When you sum two strings, for example, you'll get different behavior than when you sum two integers or two booleans.\n",
    "\n",
    "In the script some variables with different types have already been created. It's up to you to use them.</p>\n",
    "<h4>\n",
    "Instructions</h4>\n",
    "\n",
    "<ol>\n",
    "    <li>Calculate the product of <code>savings</code> and <code>growth_multiplier</code>. Store the result in <code>year1</code>.</li>\n",
    "    <li>What do you think the resulting type will be? Find out by printing out the type of <code>year1</code>.</li>\n",
    "    <li>Calculate the sum of <code>desc</code> and desc and store the result in a new variable <code>doubledesc</code>.</li>\n",
    "    <li>Print out <code>doubledesc</code>. Did you expect this?</li>\n",
    "</ol>\n"
   ]
  },
  {
   "cell_type": "code",
   "execution_count": 1,
   "metadata": {},
   "outputs": [
    {
     "name": "stdout",
     "output_type": "stream",
     "text": [
      "<class 'float'>\n",
      "compound interestcompound interest\n"
     ]
    }
   ],
   "source": [
    "savings = 100\n",
    "factor = 1.1\n",
    "desc = \"compound interest\"\n",
    "\n",
    "# Assign product of factor and savings to year1\n",
    "year1 = savings * factor**1\n",
    "\n",
    "# Print the type of year1\n",
    "print(type(year1))\n",
    "\n",
    "# Assign sum of desc and desc to doubledesc\n",
    "doubledesc = desc + desc\n",
    "\n",
    "# Print out doubledesc\n",
    "print(doubledesc)"
   ]
  },
  {
   "cell_type": "markdown",
   "metadata": {},
   "source": [
    "<h3>Exercise 3: Type conversion</h3>\n",
    "<h4>Explanation</h4>\n",
    "<p>Using the <code>+</code> operator to paste together two strings can be very useful in building custom messages.\n",
    "\n",
    "Suppose, for example, that you've calculated the return of your investment and want to summarize the results in a string. Assuming the floats <code>savings</code> and <code>result</code> are defined, you can try something like this:</p>\n",
    "\n",
    "<p><code>print(\"I started with $\" + savings + \" and now have $\" + result + \". Awesome!\")</code></p>\n",
    "\n",
    "<p>This will not work, though, as you cannot simply sum strings and floats.\n",
    "\n",
    "To fix the error, you'll need to explicitly convert the types of your variables. More specifically, you'll need <code>str()</code>, to convert a value into a string. <code>str(savings)</code>, for example, will convert the float savings to a string.\n",
    "\n",
    "Similar functions such as <code>int()</code>, <code>float()</code> and <code>bool()</code> will help you convert Python values into any type.</p>\n",
    "<h4>\n",
    "Instructions</h4>\n",
    "\n",
    "<ol>\n",
    "    <li>Hit Run Code to run the code on the right. Try to understand the error message.</li>\n",
    "    <li>Fix the code on the right such that the printout runs without errors; use the function <code>str()</code> to convert the variables to strings.</li>\n",
    "    <li>Convert the variable <code>pi_string</code> to a float and store this float as a new variable, <code>pi_float</code>.</li> \n",
    "</ol>\n"
   ]
  },
  {
   "cell_type": "code",
   "execution_count": 2,
   "metadata": {},
   "outputs": [
    {
     "name": "stdout",
     "output_type": "stream",
     "text": [
      "I started with $100 and now have $194.87171000000012. Awesome!\n"
     ]
    }
   ],
   "source": [
    "# Definition of savings and result\n",
    "savings = 100\n",
    "result = 100 * 1.10 ** 7\n",
    "\n",
    "# Fix the printout\n",
    "print(\"I started with $\" + str(savings) + \" and now have $\" + str(result) + \". Awesome!\")\n",
    "\n",
    "# Definition of pi_string\n",
    "pi_string = \"3.1415926\"\n",
    "\n",
    "# Convert pi_string into float: pi_float\n",
    "pi_float = float(pi_string)"
   ]
  }
 ],
 "metadata": {
  "kernelspec": {
   "display_name": "Python 3",
   "language": "python",
   "name": "python3"
  },
  "language_info": {
   "codemirror_mode": {
    "name": "ipython",
    "version": 3
   },
   "file_extension": ".py",
   "mimetype": "text/x-python",
   "name": "python",
   "nbconvert_exporter": "python",
   "pygments_lexer": "ipython3",
   "version": "3.6.6"
  }
 },
 "nbformat": 4,
 "nbformat_minor": 2
}
