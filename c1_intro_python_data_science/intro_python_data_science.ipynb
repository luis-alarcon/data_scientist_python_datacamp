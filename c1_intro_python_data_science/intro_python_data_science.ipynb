{
 "cells": [
  {
   "cell_type": "markdown",
   "metadata": {},
   "source": [
    "<h1>Chapter 1: Python Basics</h1>"
   ]
  },
  {
   "cell_type": "markdown",
   "metadata": {},
   "source": [
    "<h2>Lesson 1: Python Basics</h2>"
   ]
  },
  {
   "cell_type": "markdown",
   "metadata": {},
   "source": [
    "<h3>Exercise 1: The Python Interface</h3>\n",
    "<h4>Explanation</h4>\n",
    "\n",
    "<p>In the Python script on the right, you can type Python code to solve the exercises. If you hit Run Code or Submit Answer, your python script (script.py) is executed and the output is shown in the IPython Shell. Submit Answer checks whether your submission is correct and gives you feedback.\n",
    "\n",
    "You can hit Run Code and Submit Answer as often as you want. If you're stuck, you can click Get Hint, and ultimately Get Solution.\n",
    "\n",
    "You can also use the IPython Shell interactively by simply typing commands and hitting Enter. When you work in the shell directly, your code will not be checked for correctness so it is a great way to experiment.</p>\n",
    "\n",
    "<h4>Instructions</h4>\n",
    "\n",
    "<ol>\n",
    "    <li>Experiment in the IPython Shell; type 5 / 8, for example.</li>\n",
    "    <li>Add another line of code to the Python script: print(7 + 10)</li>\n",
    "    <li>Hit Submit Answer to execute the Python script and receive feedback.</li>\n",
    "</ol>\n"
   ]
  },
  {
   "cell_type": "code",
   "execution_count": 1,
   "metadata": {},
   "outputs": [
    {
     "name": "stdout",
     "output_type": "stream",
     "text": [
      "0.625\n",
      "17\n"
     ]
    }
   ],
   "source": [
    "# Example, do not modify!\n",
    "print(5 / 8)\n",
    "\n",
    "# Put code below here\n",
    "print(7 + 10)"
   ]
  },
  {
   "cell_type": "markdown",
   "metadata": {},
   "source": [
    "<h3>Exercise 2: When to use Python?</h3>\n",
    "<h4>Explanation</h4>\n",
    "<p>Python is a pretty versatile language. For which applications can you use Python?</p>\n",
    "<h4>IPossible Answers</h4>\n",
    "\n",
    "<ol>\n",
    "    <li>You want to do some quick calculations.</li>\n",
    "    <li>For your new business, you want to develop a database-driven website</li>\n",
    "    <li>Your boss asks you to clean and analyse the results of the latest satisfaction survey.</li>\n",
    "    <li><b>All of the above.</b></li>\n",
    "</ol>\n"
   ]
  },
  {
   "cell_type": "markdown",
   "metadata": {},
   "source": [
    "<h3>Exercise 3: Any Comments?</h3>\n",
    "<h4>Explanation</h4>\n",
    "<p>Something that Filip didn't mention in his videos is that you can add comments to your Python scripts. Comments are important to make sure that you and others can understand what your code is about.\n",
    "\n",
    "To add comments to your Python script, you can use the # tag. These comments are not run as Python code, so they will not influence your result. As an example, take the comment on the right, # Division; it is completely ignored during execution.</p>\n",
    "<h4>\n",
    "Instructions</h4>\n",
    "\n",
    "<ol>\n",
    "    <li>Above the print(7 + 10), add the comment # Addition.</li>\n",
    "\n",
    "</ol>\n"
   ]
  },
  {
   "cell_type": "code",
   "execution_count": 3,
   "metadata": {},
   "outputs": [
    {
     "name": "stdout",
     "output_type": "stream",
     "text": [
      "0.625\n",
      "17\n"
     ]
    }
   ],
   "source": [
    "# Division\n",
    "print(5 / 8)\n",
    "\n",
    "# Addition\n",
    "print(7 + 10)"
   ]
  },
  {
   "cell_type": "markdown",
   "metadata": {},
   "source": [
    "<h3>Exercise 4: Python as a calculator</h3>\n",
    "<h4>Explanation</h4>\n",
    "<p>Python is perfectly suited to do basic calculations. Apart from addition, subtraction, multiplication and division, there is also support for more advanced operations such as:</p>\n",
    "<ul>\n",
    "    <li>Exponentiation: **. This operator raises the number to its left to the power of the number to its right. For example 4**2 will give 16.</li>\n",
    "    <li>Modulo: %. This operator returns the remainder of the division of the number to the left by the number on its right. For example 18 % 7 equals 4.</li>\n",
    "</ul>\n",
    "<p>The code in the script on the right gives some examples.</p>\n",
    "<h4>\n",
    "Instructions</h4>\n",
    "\n",
    "<ol>\n",
    "    <li>Suppose you have $100, which you can invest with a 10% return each year. After one year, it's 100×1.1=110 dollars, and after two years it's 100×1.1×1.1=121. Add code on the right to calculate how much money you end up with after 7 years.</li>\n",
    "\n",
    "</ol>\n"
   ]
  },
  {
   "cell_type": "code",
   "execution_count": 4,
   "metadata": {},
   "outputs": [
    {
     "name": "stdout",
     "output_type": "stream",
     "text": [
      "10\n",
      "0\n",
      "15\n",
      "5.0\n",
      "4\n",
      "16\n",
      "194.87171000000012\n"
     ]
    }
   ],
   "source": [
    "# Addition, subtraction\n",
    "print(5 + 5)\n",
    "print(5 - 5)\n",
    "\n",
    "# Multiplication, division, modulo, and exponentiation\n",
    "print(3 * 5)\n",
    "print(10 / 2)\n",
    "print(18 % 7)\n",
    "print(4 ** 2)\n",
    "\n",
    "# How much is your $100 worth after 7 years?\n",
    "print(100*1.1**7)"
   ]
  },
  {
   "cell_type": "markdown",
   "metadata": {},
   "source": [
    "<h3>Exercise 5: Variable Assignment</h3>\n",
    "<h4>Explanation</h4>\n",
    "<p>In Python, a variable allows you to refer to a value with a name. To create a variable use =, like this example:</p>\n",
    "<ul>\n",
    "<li>x = 5</li>\n",
    "</ul>\n",
    "<p>You can now use the name of this variable, x, instead of the actual value, 5.\n",
    "\n",
    "Remember, = in Python means assignment, it doesn't test equality!</p>\n",
    "<h4>\n",
    "Instructions</h4>\n",
    "\n",
    "<ol>\n",
    "<li></li>\n",
    "<li></li>\n",
    "</ol>\n"
   ]
  }
 ],
 "metadata": {
  "kernelspec": {
   "display_name": "Python 3",
   "language": "python",
   "name": "python3"
  },
  "language_info": {
   "codemirror_mode": {
    "name": "ipython",
    "version": 3
   },
   "file_extension": ".py",
   "mimetype": "text/x-python",
   "name": "python",
   "nbconvert_exporter": "python",
   "pygments_lexer": "ipython3",
   "version": "3.6.6"
  }
 },
 "nbformat": 4,
 "nbformat_minor": 2
}
